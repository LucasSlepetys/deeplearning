{
 "cells": [
  {
   "cell_type": "code",
   "execution_count": 2,
   "id": "300312e4-768c-4581-8a40-2e75dd7512aa",
   "metadata": {},
   "outputs": [],
   "source": [
    "import numpy as np\n",
    "import matplotlib.pyplot as plt\n",
    "import sys\n",
    "import os\n",
    "import pandas as pd\n",
    "from sklearn.model_selection import train_test_split"
   ]
  },
  {
   "cell_type": "code",
   "execution_count": 3,
   "id": "60ba8d54-307c-400e-a48d-b05a272265a9",
   "metadata": {},
   "outputs": [
    {
     "name": "stderr",
     "output_type": "stream",
     "text": [
      "[NbConvertApp] Converting notebook ../L_layer_deeplearning_class/nn_class.ipynb to script\n",
      "[NbConvertApp] Writing 13727 bytes to ..\\L_layer_deeplearning_class\\nn_class.py\n"
     ]
    }
   ],
   "source": [
    "# Convert notebook to .py file\n",
    "!jupyter nbconvert --to script ../L_layer_deeplearning_class/nn_class.ipynb\n",
    "\n",
    "# Add correct absolute path to sys.path\n",
    "sys.path.append(os.path.abspath(r\"..\\L_layer_deeplearning_class\"))\n",
    "\n",
    "# Now import the class\n",
    "from nn_class import L_layer_NN"
   ]
  },
  {
   "cell_type": "code",
   "execution_count": 4,
   "id": "7b82c75e-0ab5-4e1a-aa00-dd72d651dd33",
   "metadata": {},
   "outputs": [],
   "source": [
    "dataset_path = r\"C:\\Users\\lucas\\OneDrive\\Desktop\\Deep Learning Speciliazation\\Data Sets\\diabetes_prediction\\diabetes_prediction_dataset.csv\"\n",
    "df = pd.read_csv(dataset_path)"
   ]
  },
  {
   "cell_type": "code",
   "execution_count": 5,
   "id": "c067ffba-aa1a-433c-8103-696d6b5de4b8",
   "metadata": {
    "scrolled": true
   },
   "outputs": [
    {
     "name": "stdout",
     "output_type": "stream",
     "text": [
      "Number of features: 8 \n",
      "\n",
      "Features: Index(['gender', 'age', 'hypertension', 'heart_disease', 'smoking_history',\n",
      "       'bmi', 'HbA1c_level', 'blood_glucose_level', 'diabetes'],\n",
      "      dtype='object') \n",
      "\n",
      "Shape: (100000, 9) \n",
      "\n",
      "\n",
      "   gender   age  hypertension  heart_disease smoking_history    bmi  \\\n",
      "0  Female  80.0             0              1           never  25.19   \n",
      "1  Female  54.0             0              0         No Info  27.32   \n",
      "2    Male  28.0             0              0           never  27.32   \n",
      "3  Female  36.0             0              0         current  23.45   \n",
      "4    Male  76.0             1              1         current  20.14   \n",
      "\n",
      "   HbA1c_level  blood_glucose_level  diabetes  \n",
      "0          6.6                  140         0  \n",
      "1          6.6                   80         0  \n",
      "2          5.7                  158         0  \n",
      "3          5.0                  155         0  \n",
      "4          4.8                  155         0  \n",
      "\n",
      "\n",
      "\n",
      "<class 'pandas.core.frame.DataFrame'>\n",
      "RangeIndex: 100000 entries, 0 to 99999\n",
      "Data columns (total 9 columns):\n",
      " #   Column               Non-Null Count   Dtype  \n",
      "---  ------               --------------   -----  \n",
      " 0   gender               100000 non-null  object \n",
      " 1   age                  100000 non-null  float64\n",
      " 2   hypertension         100000 non-null  int64  \n",
      " 3   heart_disease        100000 non-null  int64  \n",
      " 4   smoking_history      100000 non-null  object \n",
      " 5   bmi                  100000 non-null  float64\n",
      " 6   HbA1c_level          100000 non-null  float64\n",
      " 7   blood_glucose_level  100000 non-null  int64  \n",
      " 8   diabetes             100000 non-null  int64  \n",
      "dtypes: float64(3), int64(4), object(2)\n",
      "memory usage: 6.9+ MB\n",
      "None\n",
      "\n",
      "\n",
      "\n",
      "Column: gender\n",
      "gender\n",
      "Female    58552\n",
      "Male      41430\n",
      "Other        18\n",
      "Name: count, dtype: int64\n",
      "\n",
      "\n",
      "\n",
      "Column: age\n",
      "age\n",
      "80.00    5621\n",
      "51.00    1619\n",
      "47.00    1574\n",
      "48.00    1568\n",
      "53.00    1542\n",
      "         ... \n",
      "0.48       83\n",
      "1.00       83\n",
      "0.40       66\n",
      "0.16       59\n",
      "0.08       36\n",
      "Name: count, Length: 102, dtype: int64\n",
      "\n",
      "\n",
      "\n",
      "Column: hypertension\n",
      "hypertension\n",
      "0    92515\n",
      "1     7485\n",
      "Name: count, dtype: int64\n",
      "\n",
      "\n",
      "\n",
      "Column: heart_disease\n",
      "heart_disease\n",
      "0    96058\n",
      "1     3942\n",
      "Name: count, dtype: int64\n",
      "\n",
      "\n",
      "\n",
      "Column: smoking_history\n",
      "smoking_history\n",
      "No Info        35816\n",
      "never          35095\n",
      "former          9352\n",
      "current         9286\n",
      "not current     6447\n",
      "ever            4004\n",
      "Name: count, dtype: int64\n",
      "\n",
      "\n",
      "\n",
      "Column: bmi\n",
      "bmi\n",
      "27.32    25495\n",
      "23.00      103\n",
      "27.12      101\n",
      "27.80      100\n",
      "24.96      100\n",
      "         ...  \n",
      "56.10        1\n",
      "50.27        1\n",
      "55.04        1\n",
      "56.65        1\n",
      "53.37        1\n",
      "Name: count, Length: 4247, dtype: int64\n",
      "\n",
      "\n",
      "\n",
      "Column: HbA1c_level\n",
      "HbA1c_level\n",
      "6.6    8540\n",
      "5.7    8413\n",
      "6.5    8362\n",
      "5.8    8321\n",
      "6.0    8295\n",
      "6.2    8269\n",
      "6.1    8048\n",
      "3.5    7662\n",
      "4.8    7597\n",
      "4.5    7585\n",
      "4.0    7542\n",
      "5.0    7471\n",
      "8.2     661\n",
      "8.8     661\n",
      "9.0     654\n",
      "7.5     643\n",
      "6.8     642\n",
      "7.0     634\n",
      "Name: count, dtype: int64\n",
      "\n",
      "\n",
      "\n",
      "Column: blood_glucose_level\n",
      "blood_glucose_level\n",
      "130    7794\n",
      "159    7759\n",
      "140    7732\n",
      "160    7712\n",
      "126    7702\n",
      "145    7679\n",
      "200    7600\n",
      "155    7575\n",
      "90     7112\n",
      "80     7106\n",
      "158    7026\n",
      "100    7025\n",
      "85     6901\n",
      "280     729\n",
      "300     674\n",
      "240     636\n",
      "260     635\n",
      "220     603\n",
      "Name: count, dtype: int64\n",
      "\n",
      "\n",
      "\n",
      "Column: diabetes\n",
      "diabetes\n",
      "0    91500\n",
      "1     8500\n",
      "Name: count, dtype: int64\n",
      "\n",
      "\n",
      "\n"
     ]
    }
   ],
   "source": [
    "features = df.columns\n",
    "shape = df.shape\n",
    "print(f\"Number of features: {len(features) - 1} \\n\") \n",
    "print(f\"Features: {features} \\n\")\n",
    "print(f\"Shape: {shape} \\n\\n\")\n",
    "print(df.head())\n",
    "print(\"\\n\\n\")\n",
    "print(df.info())\n",
    "print(\"\\n\\n\")\n",
    "for col in df.columns:\n",
    "    print(f\"Column: {col}\")\n",
    "    print(df[col].value_counts())\n",
    "    print(\"\\n\\n\")\n",
    "\n",
    "#todos in dataset:\n",
    "#decision: keep No Info from smoking_history as its own category\n",
    "# 1. One hot encode: gender and smoking_history\n",
    "# 2. Normalize: age, bmi, HbA1c_level, blood_glucose_level"
   ]
  },
  {
   "cell_type": "code",
   "execution_count": 6,
   "id": "9cc8b619-f62d-4ee6-ac6a-4c94b8008d2b",
   "metadata": {},
   "outputs": [
    {
     "data": {
      "text/html": [
       "<div>\n",
       "<style scoped>\n",
       "    .dataframe tbody tr th:only-of-type {\n",
       "        vertical-align: middle;\n",
       "    }\n",
       "\n",
       "    .dataframe tbody tr th {\n",
       "        vertical-align: top;\n",
       "    }\n",
       "\n",
       "    .dataframe thead th {\n",
       "        text-align: right;\n",
       "    }\n",
       "</style>\n",
       "<table border=\"1\" class=\"dataframe\">\n",
       "  <thead>\n",
       "    <tr style=\"text-align: right;\">\n",
       "      <th></th>\n",
       "      <th>age</th>\n",
       "      <th>hypertension</th>\n",
       "      <th>heart_disease</th>\n",
       "      <th>bmi</th>\n",
       "      <th>HbA1c_level</th>\n",
       "      <th>blood_glucose_level</th>\n",
       "      <th>diabetes</th>\n",
       "      <th>gender_Female</th>\n",
       "      <th>gender_Male</th>\n",
       "      <th>gender_Other</th>\n",
       "      <th>smoke_No Info</th>\n",
       "      <th>smoke_current</th>\n",
       "      <th>smoke_ever</th>\n",
       "      <th>smoke_former</th>\n",
       "      <th>smoke_never</th>\n",
       "      <th>smoke_not current</th>\n",
       "    </tr>\n",
       "  </thead>\n",
       "  <tbody>\n",
       "    <tr>\n",
       "      <th>0</th>\n",
       "      <td>80.0</td>\n",
       "      <td>0</td>\n",
       "      <td>1</td>\n",
       "      <td>25.19</td>\n",
       "      <td>6.6</td>\n",
       "      <td>140</td>\n",
       "      <td>0</td>\n",
       "      <td>True</td>\n",
       "      <td>False</td>\n",
       "      <td>False</td>\n",
       "      <td>False</td>\n",
       "      <td>False</td>\n",
       "      <td>False</td>\n",
       "      <td>False</td>\n",
       "      <td>True</td>\n",
       "      <td>False</td>\n",
       "    </tr>\n",
       "    <tr>\n",
       "      <th>1</th>\n",
       "      <td>54.0</td>\n",
       "      <td>0</td>\n",
       "      <td>0</td>\n",
       "      <td>27.32</td>\n",
       "      <td>6.6</td>\n",
       "      <td>80</td>\n",
       "      <td>0</td>\n",
       "      <td>True</td>\n",
       "      <td>False</td>\n",
       "      <td>False</td>\n",
       "      <td>True</td>\n",
       "      <td>False</td>\n",
       "      <td>False</td>\n",
       "      <td>False</td>\n",
       "      <td>False</td>\n",
       "      <td>False</td>\n",
       "    </tr>\n",
       "    <tr>\n",
       "      <th>2</th>\n",
       "      <td>28.0</td>\n",
       "      <td>0</td>\n",
       "      <td>0</td>\n",
       "      <td>27.32</td>\n",
       "      <td>5.7</td>\n",
       "      <td>158</td>\n",
       "      <td>0</td>\n",
       "      <td>False</td>\n",
       "      <td>True</td>\n",
       "      <td>False</td>\n",
       "      <td>False</td>\n",
       "      <td>False</td>\n",
       "      <td>False</td>\n",
       "      <td>False</td>\n",
       "      <td>True</td>\n",
       "      <td>False</td>\n",
       "    </tr>\n",
       "    <tr>\n",
       "      <th>3</th>\n",
       "      <td>36.0</td>\n",
       "      <td>0</td>\n",
       "      <td>0</td>\n",
       "      <td>23.45</td>\n",
       "      <td>5.0</td>\n",
       "      <td>155</td>\n",
       "      <td>0</td>\n",
       "      <td>True</td>\n",
       "      <td>False</td>\n",
       "      <td>False</td>\n",
       "      <td>False</td>\n",
       "      <td>True</td>\n",
       "      <td>False</td>\n",
       "      <td>False</td>\n",
       "      <td>False</td>\n",
       "      <td>False</td>\n",
       "    </tr>\n",
       "    <tr>\n",
       "      <th>4</th>\n",
       "      <td>76.0</td>\n",
       "      <td>1</td>\n",
       "      <td>1</td>\n",
       "      <td>20.14</td>\n",
       "      <td>4.8</td>\n",
       "      <td>155</td>\n",
       "      <td>0</td>\n",
       "      <td>False</td>\n",
       "      <td>True</td>\n",
       "      <td>False</td>\n",
       "      <td>False</td>\n",
       "      <td>True</td>\n",
       "      <td>False</td>\n",
       "      <td>False</td>\n",
       "      <td>False</td>\n",
       "      <td>False</td>\n",
       "    </tr>\n",
       "    <tr>\n",
       "      <th>...</th>\n",
       "      <td>...</td>\n",
       "      <td>...</td>\n",
       "      <td>...</td>\n",
       "      <td>...</td>\n",
       "      <td>...</td>\n",
       "      <td>...</td>\n",
       "      <td>...</td>\n",
       "      <td>...</td>\n",
       "      <td>...</td>\n",
       "      <td>...</td>\n",
       "      <td>...</td>\n",
       "      <td>...</td>\n",
       "      <td>...</td>\n",
       "      <td>...</td>\n",
       "      <td>...</td>\n",
       "      <td>...</td>\n",
       "    </tr>\n",
       "    <tr>\n",
       "      <th>99995</th>\n",
       "      <td>80.0</td>\n",
       "      <td>0</td>\n",
       "      <td>0</td>\n",
       "      <td>27.32</td>\n",
       "      <td>6.2</td>\n",
       "      <td>90</td>\n",
       "      <td>0</td>\n",
       "      <td>True</td>\n",
       "      <td>False</td>\n",
       "      <td>False</td>\n",
       "      <td>True</td>\n",
       "      <td>False</td>\n",
       "      <td>False</td>\n",
       "      <td>False</td>\n",
       "      <td>False</td>\n",
       "      <td>False</td>\n",
       "    </tr>\n",
       "    <tr>\n",
       "      <th>99996</th>\n",
       "      <td>2.0</td>\n",
       "      <td>0</td>\n",
       "      <td>0</td>\n",
       "      <td>17.37</td>\n",
       "      <td>6.5</td>\n",
       "      <td>100</td>\n",
       "      <td>0</td>\n",
       "      <td>True</td>\n",
       "      <td>False</td>\n",
       "      <td>False</td>\n",
       "      <td>True</td>\n",
       "      <td>False</td>\n",
       "      <td>False</td>\n",
       "      <td>False</td>\n",
       "      <td>False</td>\n",
       "      <td>False</td>\n",
       "    </tr>\n",
       "    <tr>\n",
       "      <th>99997</th>\n",
       "      <td>66.0</td>\n",
       "      <td>0</td>\n",
       "      <td>0</td>\n",
       "      <td>27.83</td>\n",
       "      <td>5.7</td>\n",
       "      <td>155</td>\n",
       "      <td>0</td>\n",
       "      <td>False</td>\n",
       "      <td>True</td>\n",
       "      <td>False</td>\n",
       "      <td>False</td>\n",
       "      <td>False</td>\n",
       "      <td>False</td>\n",
       "      <td>True</td>\n",
       "      <td>False</td>\n",
       "      <td>False</td>\n",
       "    </tr>\n",
       "    <tr>\n",
       "      <th>99998</th>\n",
       "      <td>24.0</td>\n",
       "      <td>0</td>\n",
       "      <td>0</td>\n",
       "      <td>35.42</td>\n",
       "      <td>4.0</td>\n",
       "      <td>100</td>\n",
       "      <td>0</td>\n",
       "      <td>True</td>\n",
       "      <td>False</td>\n",
       "      <td>False</td>\n",
       "      <td>False</td>\n",
       "      <td>False</td>\n",
       "      <td>False</td>\n",
       "      <td>False</td>\n",
       "      <td>True</td>\n",
       "      <td>False</td>\n",
       "    </tr>\n",
       "    <tr>\n",
       "      <th>99999</th>\n",
       "      <td>57.0</td>\n",
       "      <td>0</td>\n",
       "      <td>0</td>\n",
       "      <td>22.43</td>\n",
       "      <td>6.6</td>\n",
       "      <td>90</td>\n",
       "      <td>0</td>\n",
       "      <td>True</td>\n",
       "      <td>False</td>\n",
       "      <td>False</td>\n",
       "      <td>False</td>\n",
       "      <td>True</td>\n",
       "      <td>False</td>\n",
       "      <td>False</td>\n",
       "      <td>False</td>\n",
       "      <td>False</td>\n",
       "    </tr>\n",
       "  </tbody>\n",
       "</table>\n",
       "<p>100000 rows × 16 columns</p>\n",
       "</div>"
      ],
      "text/plain": [
       "        age  hypertension  heart_disease    bmi  HbA1c_level  \\\n",
       "0      80.0             0              1  25.19          6.6   \n",
       "1      54.0             0              0  27.32          6.6   \n",
       "2      28.0             0              0  27.32          5.7   \n",
       "3      36.0             0              0  23.45          5.0   \n",
       "4      76.0             1              1  20.14          4.8   \n",
       "...     ...           ...            ...    ...          ...   \n",
       "99995  80.0             0              0  27.32          6.2   \n",
       "99996   2.0             0              0  17.37          6.5   \n",
       "99997  66.0             0              0  27.83          5.7   \n",
       "99998  24.0             0              0  35.42          4.0   \n",
       "99999  57.0             0              0  22.43          6.6   \n",
       "\n",
       "       blood_glucose_level  diabetes  gender_Female  gender_Male  \\\n",
       "0                      140         0           True        False   \n",
       "1                       80         0           True        False   \n",
       "2                      158         0          False         True   \n",
       "3                      155         0           True        False   \n",
       "4                      155         0          False         True   \n",
       "...                    ...       ...            ...          ...   \n",
       "99995                   90         0           True        False   \n",
       "99996                  100         0           True        False   \n",
       "99997                  155         0          False         True   \n",
       "99998                  100         0           True        False   \n",
       "99999                   90         0           True        False   \n",
       "\n",
       "       gender_Other  smoke_No Info  smoke_current  smoke_ever  smoke_former  \\\n",
       "0             False          False          False       False         False   \n",
       "1             False           True          False       False         False   \n",
       "2             False          False          False       False         False   \n",
       "3             False          False           True       False         False   \n",
       "4             False          False           True       False         False   \n",
       "...             ...            ...            ...         ...           ...   \n",
       "99995         False           True          False       False         False   \n",
       "99996         False           True          False       False         False   \n",
       "99997         False          False          False       False          True   \n",
       "99998         False          False          False       False         False   \n",
       "99999         False          False           True       False         False   \n",
       "\n",
       "       smoke_never  smoke_not current  \n",
       "0             True              False  \n",
       "1            False              False  \n",
       "2             True              False  \n",
       "3            False              False  \n",
       "4            False              False  \n",
       "...            ...                ...  \n",
       "99995        False              False  \n",
       "99996        False              False  \n",
       "99997        False              False  \n",
       "99998         True              False  \n",
       "99999        False              False  \n",
       "\n",
       "[100000 rows x 16 columns]"
      ]
     },
     "execution_count": 6,
     "metadata": {},
     "output_type": "execute_result"
    }
   ],
   "source": [
    "#One hot encoding of gender:\n",
    "gender_encoded = pd.get_dummies(df[\"gender\"], prefix=\"gender\")\n",
    "df = pd.concat([df, gender_encoded], axis = 1)\n",
    "df = df.drop(\"gender\", axis=1)\n",
    "#One hot encoding of smoking_history:\n",
    "smoking_encoded = pd.get_dummies(df[\"smoking_history\"], prefix=\"smoke\")\n",
    "df = pd.concat([df, smoking_encoded], axis = 1)\n",
    "df = df.drop(\"smoking_history\", axis=1)\n",
    "df"
   ]
  },
  {
   "cell_type": "code",
   "execution_count": 7,
   "id": "bee89964-7edd-4846-a223-d1d2d8d01e3b",
   "metadata": {},
   "outputs": [
    {
     "name": "stdout",
     "output_type": "stream",
     "text": [
      "Shape of X_train: (98000, 15)\n",
      "Shape of X_dev: (1000, 15)\n",
      "Shape of X_test: (1000, 15)\n",
      "Size of Y_train: (98000,)\n"
     ]
    }
   ],
   "source": [
    "#Splitting dataset: training, dev, test -> 60, 20, 20\n",
    "X = df.drop(\"diabetes\", axis = 1)\n",
    "y = df[\"diabetes\"]\n",
    "\n",
    "X_train, X_temp, y_train, y_temp = train_test_split(X, y, test_size=0.02, random_state=42)\n",
    "X_dev, X_test, y_dev, y_test = train_test_split(X_temp, y_temp, test_size=0.5, random_state=42)\n",
    "\n",
    "print(f\"Shape of X_train: {X_train.shape}\")\n",
    "print(f\"Shape of X_dev: {X_dev.shape}\")\n",
    "print(f\"Shape of X_test: {X_test.shape}\")\n",
    "print(f\"Size of Y_train: {y_train.shape}\")"
   ]
  },
  {
   "cell_type": "code",
   "execution_count": 8,
   "id": "6f5d6a89-1568-48ce-918e-d10d116e5148",
   "metadata": {
    "scrolled": true
   },
   "outputs": [
    {
     "name": "stdout",
     "output_type": "stream",
     "text": [
      "Shape of X_train: (15, 98000)\n",
      "Shape of X_dev: (15, 1000)\n",
      "Shape of X_test: (15, 1000)\n",
      "Size of Y_train: (1, 98000)\n"
     ]
    }
   ],
   "source": [
    "#normalizing dataset (use values from X_train to X_dev and X_test)\n",
    "mean = X_train.mean()\n",
    "std = X_train.std()\n",
    "\n",
    "# Z-score of each dataset:\n",
    "X_train = (X_train - mean) / std\n",
    "X_dev = (X_dev - mean) / std\n",
    "X_test = (X_test - mean) / std\n",
    "\n",
    "# Make all numpy arrays & make (features, example)\n",
    "X_train = X_train.to_numpy().T\n",
    "X_dev = X_dev.to_numpy().T\n",
    "X_test = X_test.to_numpy().T\n",
    "\n",
    "#(1, m)\n",
    "y_train = y_train.to_numpy().reshape(1, -1)\n",
    "y_dev   = y_dev.to_numpy().reshape(1, -1)\n",
    "y_test  = y_test.to_numpy().reshape(1, -1)\n",
    "\n",
    "print(f\"Shape of X_train: {X_train.shape}\")\n",
    "print(f\"Shape of X_dev: {X_dev.shape}\")\n",
    "print(f\"Shape of X_test: {X_test.shape}\")\n",
    "print(f\"Size of Y_train: {y_train.shape}\")"
   ]
  },
  {
   "cell_type": "markdown",
   "id": "7c4de0a2-57c5-4cf4-b5d6-29c1246d4f88",
   "metadata": {},
   "source": [
    "<p style=\"margin: 30px; font-size: 15px\">Data has been handled and stored in X_train, X_dev, X_test, y_train, y_dev, y_test, as numpy arrays with shape expected by NeuronNetwork</p>\n"
   ]
  },
  {
   "cell_type": "code",
   "execution_count": 9,
   "id": "4c32869f-a197-439a-a25a-3f90c1c661a2",
   "metadata": {},
   "outputs": [
    {
     "name": "stdout",
     "output_type": "stream",
     "text": [
      "41.871428571428574\n",
      "42.699999999999996\n",
      "43.8\n"
     ]
    },
    {
     "name": "stderr",
     "output_type": "stream",
     "text": [
      "Training: 100%|█████████████████████████████████████| 1000/1000 [20:07<00:00,  1.21s/it, Mean cost=0.05876620354449065]\n"
     ]
    },
    {
     "data": {
      "image/png": "[encoded data removed]",
      "text/plain": [
       "<Figure size 640x480 with 1 Axes>"
      ]
     },
     "metadata": {},
     "output_type": "display_data"
    }
   ],
   "source": [
    "#train model:\n",
    "layers_dims = [X_train.shape[0], 64, 32, 16, 1]\n",
    "model = L_layer_NN(layer_dims=layers_dims, optimizer =\"adam\", learning_rate=0.01)\n",
    "print(model.accuracy(X_train, y_train))\n",
    "print(model.accuracy(X_dev, y_dev))\n",
    "print(model.accuracy(X_test, y_test))\n",
    "model.train(X_train, y_train, epochs=1000, print_cost=True)\n",
    "\n",
    "# Plot cost graph\n",
    "model.plot_cost()\n",
    "#cost=0.04239374782412526]"
   ]
  },
  {
   "cell_type": "code",
   "execution_count": 10,
   "id": "b939e696-e948-44fd-a5c9-6e1d7daa4e6e",
   "metadata": {},
   "outputs": [
    {
     "name": "stdout",
     "output_type": "stream",
     "text": [
      "0.0001\n"
     ]
    },
    {
     "data": {
      "text/plain": [
       "np.float64(97.63571428571429)"
      ]
     },
     "execution_count": 10,
     "metadata": {},
     "output_type": "execute_result"
    }
   ],
   "source": [
    "print(model.learning_rate)\n",
    "model.accuracy(X_train, y_train)\n",
    "#98.205"
   ]
  },
  {
   "cell_type": "code",
   "execution_count": 11,
   "id": "22831a33-4355-48b8-9450-b5f4cadec7ac",
   "metadata": {},
   "outputs": [
    {
     "data": {
      "text/plain": [
       "np.float64(96.7)"
      ]
     },
     "execution_count": 11,
     "metadata": {},
     "output_type": "execute_result"
    }
   ],
   "source": [
    "model.accuracy(X_dev, y_dev)\n",
    "#95.895"
   ]
  },
  {
   "cell_type": "code",
   "execution_count": 12,
   "id": "8c975c68-2589-4c03-9673-de9e1570d59a",
   "metadata": {},
   "outputs": [
    {
     "data": {
      "text/plain": [
       "np.float64(96.89999999999999)"
      ]
     },
     "execution_count": 12,
     "metadata": {},
     "output_type": "execute_result"
    }
   ],
   "source": [
    "model.accuracy(X_test, y_test)"
   ]
  },
  {
   "cell_type": "code",
   "execution_count": 12,
   "id": "bc88aac6-ed8e-4de0-92fb-7f20d1e6b1e7",
   "metadata": {},
   "outputs": [],
   "source": [
    "model.learning_rate = 0.00001"
   ]
  },
  {
   "cell_type": "code",
   "execution_count": 14,
   "id": "d6cf1162-b64b-42ea-8488-50381b2a1abc",
   "metadata": {},
   "outputs": [
    {
     "name": "stderr",
     "output_type": "stream",
     "text": [
      "Training: 100%|██████████████████████████████████████| 300/300 [03:05<00:00,  1.62it/s, Mean cost=0.041855793214456934]\n"
     ]
    }
   ],
   "source": [
    "model.train(X_train, y_train, epochs=300, print_cost=True)"
   ]
  },
  {
   "cell_type": "code",
   "execution_count": 15,
   "id": "ba186d44-2a0b-4640-821a-9613f3c23f85",
   "metadata": {},
   "outputs": [
    {
     "data": {
      "image/png": "[encoded data removed]",
      "text/plain": [
       "<Figure size 640x480 with 1 Axes>"
      ]
     },
     "metadata": {},
     "output_type": "display_data"
    }
   ],
   "source": [
    "model.plot_cost()"
   ]
  },
  {
   "cell_type": "code",
   "execution_count": 16,
   "id": "18818c96-8b74-4357-86ef-de55cba9edf7",
   "metadata": {},
   "outputs": [
    {
     "name": "stdout",
     "output_type": "stream",
     "text": [
      "1e-05\n"
     ]
    },
    {
     "data": {
      "text/plain": [
       "np.float64(98.22999999999999)"
      ]
     },
     "execution_count": 16,
     "metadata": {},
     "output_type": "execute_result"
    }
   ],
   "source": [
    "print(model.learning_rate)\n",
    "model.accuracy(X_train, y_train)"
   ]
  },
  {
   "cell_type": "code",
   "execution_count": 31,
   "id": "873a965a-95ae-425c-b9e1-9971312a7d4e",
   "metadata": {},
   "outputs": [
    {
     "name": "stdout",
     "output_type": "stream",
     "text": [
      "{np.int64(0): np.int64(57646), np.int64(1): np.int64(2354)}\n"
     ]
    }
   ],
   "source": [
    "predictions = model.predict(X_train)\n",
    "unique, counts = np.unique(predictions, return_counts=True)\n",
    "print(dict(zip(unique, counts)))"
   ]
  },
  {
   "cell_type": "code",
   "execution_count": null,
   "id": "e5e4bd0f-473d-4c0b-8222-05ec76d47367",
   "metadata": {},
   "outputs": [],
   "source": []
  }
 ],
 "metadata": {
  "kernelspec": {
   "display_name": "Python 3 (ipykernel)",
   "language": "python",
   "name": "python3"
  },
  "language_info": {
   "codemirror_mode": {
    "name": "ipython",
    "version": 3
   },
   "file_extension": ".py",
   "mimetype": "text/x-python",
   "name": "python",
   "nbconvert_exporter": "python",
   "pygments_lexer": "ipython3",
   "version": "3.11.0"
  }
 },
 "nbformat": 4,
 "nbformat_minor": 5
}
