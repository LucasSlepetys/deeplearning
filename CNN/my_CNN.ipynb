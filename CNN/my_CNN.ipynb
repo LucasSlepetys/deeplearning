{
 "cells": [
  {
   "cell_type": "code",
   "execution_count": 8,
   "id": "53b05ca9-cdcc-4e4e-aa5d-b2f6d264dea7",
   "metadata": {},
   "outputs": [],
   "source": [
    "import numpy as np\n",
    "from tensorflow.keras.datasets import mnist\n",
    "from matplotlib import pyplot as plt\n"
   ]
  },
  {
   "cell_type": "code",
   "execution_count": 3,
   "id": "d936fccb-577c-4db3-ac38-41ba41a4d1a1",
   "metadata": {},
   "outputs": [],
   "source": [
    "(X_train, y_train), (X_test, y_test) = mnist.load_data()"
   ]
  },
  {
   "cell_type": "code",
   "execution_count": 33,
   "id": "fabf5b8f-e48f-4810-b59e-0ed469318068",
   "metadata": {},
   "outputs": [
    {
     "name": "stdout",
     "output_type": "stream",
     "text": [
      "5\n"
     ]
    }
   ],
   "source": [
    "X_train = (X_train.astype(np.float32) / 255.0)[..., None] # (60000,28,28,1)\n",
    "X_test  = (X_test.astype(np.float32)  / 255.0)[..., None]  # (10000,28,28,1)\n",
    "Y_train = np.eye(10)[y_train] #one hot encode of value (m, 10)\n",
    "Y_test  = np.eye(10)[y_test] #(m, 10)"
   ]
  },
  {
   "cell_type": "code",
   "execution_count": 57,
   "id": "ba60a1c1-86cd-4348-9cb8-2bab5cd30be9",
   "metadata": {},
   "outputs": [
    {
     "data": {
      "image/png": "[encoded data removed]",
      "text/plain": [
       "<Figure size 640x480 with 1 Axes>"
      ]
     },
     "metadata": {},
     "output_type": "display_data"
    }
   ],
   "source": [
    "i = np.random.randint(0, 5000)\n",
    "img = X_train[i]          # (28, 28, 1)\n",
    "img = np.squeeze(img)  # -> (28, 28)\n",
    "\n",
    "plt.imshow(img, cmap='gray')\n",
    "plt.title(f\"Label: {y_train[i]}\")\n",
    "plt.axis('off')\n",
    "plt.show()"
   ]
  },
  {
   "cell_type": "markdown",
   "id": "04b28911-cc9c-4bc3-b889-8caf2a5f988b",
   "metadata": {},
   "source": [
    "# Convolutional Neural Network (CNN)\n",
    "\n",
    "- Conv(8, 3×3, s=1, pad=1) → ReLU\n",
    "- MaxPool(2×2, s=2)\n",
    "- Flatten\n",
    "- FC(16*14*14 → 10)\n",
    "- Softmax + CE\n",
    "- maybe compare it with normal NN\n"
   ]
  },
  {
   "cell_type": "code",
   "execution_count": null,
   "id": "5cb759f1-a08a-4c01-adbb-25af3ad1ea34",
   "metadata": {},
   "outputs": [],
   "source": []
  }
 ],
 "metadata": {
  "kernelspec": {
   "display_name": "Python 3 (ipykernel)",
   "language": "python",
   "name": "python3"
  },
  "language_info": {
   "codemirror_mode": {
    "name": "ipython",
    "version": 3
   },
   "file_extension": ".py",
   "mimetype": "text/x-python",
   "name": "python",
   "nbconvert_exporter": "python",
   "pygments_lexer": "ipython3",
   "version": "3.11.0"
  }
 },
 "nbformat": 4,
 "nbformat_minor": 5
}
