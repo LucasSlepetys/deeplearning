{
 "cells": [
  {
   "cell_type": "code",
   "execution_count": 17,
   "id": "e50753e2-803f-43dc-ab19-08a96ea35a75",
   "metadata": {},
   "outputs": [],
   "source": [
    "import load_mnist_data\n",
    "import numpy as np"
   ]
  },
  {
   "cell_type": "code",
   "execution_count": 18,
   "id": "62079cb4-a590-4d8f-b19e-dbd8d6350686",
   "metadata": {},
   "outputs": [],
   "source": [
    "X_train, X_test, Y_train, Y_test = load_mnist_data.loadData()"
   ]
  },
  {
   "cell_type": "code",
   "execution_count": 19,
   "id": "6afc3afc-4a70-402f-a510-0b52472fc7c6",
   "metadata": {},
   "outputs": [
    {
     "name": "stdout",
     "output_type": "stream",
     "text": [
      "X_train: ((60000, 28, 28, 1), dtype('float32'))\n",
      "\n",
      "\n",
      "X_test: ((10000, 28, 28, 1), dtype('float32'))\n",
      "\n",
      "\n",
      "Y_train: ((60000, 10), dtype('float64'))\n",
      "\n",
      "\n",
      "Y_train: ((60000, 10), dtype('float64'))\n",
      "\n",
      "\n",
      "Y_test: ((10000, 10), dtype('float64'))\n",
      "\n",
      "\n",
      "Data from mnist dataset\n"
     ]
    }
   ],
   "source": [
    "load_mnist_data.printType()"
   ]
  },
  {
   "cell_type": "markdown",
   "id": "ab30266d-ded7-438f-ba69-11d053b1860d",
   "metadata": {},
   "source": [
    "# Convolutional Neural Network (CNN)\n",
    "\n",
    "- Conv(8, 3×3, s=1, pad=same) → ReLU\n",
    "- MaxPool(2×2, s=2)\n",
    "- Flatten\n",
    "- FC(16*14*14 → 10)\n",
    "- Softmax + CE\n",
    "- maybe compare it with normal NN\n"
   ]
  },
  {
   "cell_type": "code",
   "execution_count": 20,
   "id": "a5dcaee0-b2ca-4818-b277-dbc0f493166c",
   "metadata": {},
   "outputs": [],
   "source": [
    "#Weight and bias inicialization for first 2dConv:\n",
    "\n",
    "W1 = np.random.rand(3, 3, 1, 8)\n",
    "b2 = np.random.rand(1, 1, 1, 8)"
   ]
  },
  {
   "cell_type": "code",
   "execution_count": 22,
   "id": "3512f21d-7130-4366-aa10-461614ef697f",
   "metadata": {},
   "outputs": [],
   "source": [
    "#pads all X_train with p = 1\n",
    "X_padded = np.pad(X_train, \n",
    "                  pad_width=((0,0), (1,1), (1,1), (0,0)), \n",
    "                  mode='constant')    "
   ]
  },
  {
   "cell_type": "code",
   "execution_count": 29,
   "id": "27d1642e-1b10-4a82-ab6d-d3eaf077bbac",
   "metadata": {},
   "outputs": [
    {
     "name": "stdout",
     "output_type": "stream",
     "text": [
      "(60000, 28, 28, 1)\n",
      "(60000, 30, 30, 1)\n"
     ]
    }
   ],
   "source": [
    "print(X_train.shape)\n",
    "print(X_padded.shape)"
   ]
  },
  {
   "cell_type": "code",
   "execution_count": 21,
   "id": "d7b6e071-cae2-4d29-81ea-4645b600e533",
   "metadata": {},
   "outputs": [
    {
     "name": "stdout",
     "output_type": "stream",
     "text": [
      "(28, 28, 1)\n"
     ]
    }
   ],
   "source": [
    "for img in X_padded:\n",
    "\n",
    "    for h \n",
    "    \n",
    "    break"
   ]
  },
  {
   "cell_type": "code",
   "execution_count": null,
   "id": "4fe0b37f-38c5-431d-9387-fdc221a89b44",
   "metadata": {},
   "outputs": [],
   "source": []
  }
 ],
 "metadata": {
  "kernelspec": {
   "display_name": "Python 3 (ipykernel)",
   "language": "python",
   "name": "python3"
  },
  "language_info": {
   "codemirror_mode": {
    "name": "ipython",
    "version": 3
   },
   "file_extension": ".py",
   "mimetype": "text/x-python",
   "name": "python",
   "nbconvert_exporter": "python",
   "pygments_lexer": "ipython3",
   "version": "3.9.23"
  }
 },
 "nbformat": 4,
 "nbformat_minor": 5
}
