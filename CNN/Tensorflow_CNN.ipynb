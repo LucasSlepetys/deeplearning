{
 "cells": [
  {
   "cell_type": "code",
   "execution_count": 1,
   "id": "53b05ca9-cdcc-4e4e-aa5d-b2f6d264dea7",
   "metadata": {},
   "outputs": [],
   "source": [
    "import numpy as np\n",
    "from tensorflow.keras.datasets import mnist\n",
    "from matplotlib import pyplot as plt\n",
    "import load_mnist_data"
   ]
  },
  {
   "cell_type": "code",
   "execution_count": 2,
   "id": "d936fccb-577c-4db3-ac38-41ba41a4d1a1",
   "metadata": {},
   "outputs": [],
   "source": [
    "X_train, X_test, Y_train, Y_test = load_mnist_data.loadData()"
   ]
  },
  {
   "cell_type": "markdown",
   "id": "04b28911-cc9c-4bc3-b889-8caf2a5f988b",
   "metadata": {},
   "source": [
    "# Convolutional Neural Network (CNN)\n",
    "\n",
    "- Conv(8, 3×3, s=1, pad=1) → ReLU\n",
    "- MaxPool(2×2, s=2)\n",
    "- Flatten\n",
    "- FC(16*14*14 → 10)\n",
    "- Softmax + CE\n",
    "- maybe compare it with normal NN\n"
   ]
  },
  {
   "cell_type": "code",
   "execution_count": 3,
   "id": "5cb759f1-a08a-4c01-adbb-25af3ad1ea34",
   "metadata": {},
   "outputs": [],
   "source": [
    "from tensorflow.keras import Input, Model\n",
    "from tensorflow.keras.layers import Conv2D, MaxPool2D, Flatten, Dense"
   ]
  },
  {
   "cell_type": "code",
   "execution_count": 4,
   "id": "18723bcb-a594-4b48-bf93-ee1130d0e6d5",
   "metadata": {},
   "outputs": [],
   "source": [
    "inputs = Input(shape=(28, 28, 1), name=\"images\")\n",
    "\n",
    "X = Conv2D(filters = 8, kernel_size= 3, strides = 1, padding = \"same\", activation=\"relu\", name=\"conv1\")(inputs)\n",
    "\n",
    "X = MaxPool2D(pool_size = 2, strides = 2, name=\"pool1\")(X)\n",
    "\n",
    "X = Flatten(name=\"flatten\")(X)\n",
    "\n",
    "outputs = Dense(10, activation=\"softmax\", name=\"head\")(X)\n",
    "\n",
    "model = Model(inputs = inputs, outputs = outputs, name = \"mnist_cnn_8f\")"
   ]
  },
  {
   "cell_type": "code",
   "execution_count": 5,
   "id": "3a4ab2f1-081e-4285-b097-41d215836bb8",
   "metadata": {},
   "outputs": [
    {
     "name": "stdout",
     "output_type": "stream",
     "text": [
      "Model: \"mnist_cnn_8f\"\n",
      "_________________________________________________________________\n",
      " Layer (type)                Output Shape              Param #   \n",
      "=================================================================\n",
      " images (InputLayer)         [(None, 28, 28, 1)]       0         \n",
      "                                                                 \n",
      " conv1 (Conv2D)              (None, 28, 28, 8)         80        \n",
      "                                                                 \n",
      " pool1 (MaxPooling2D)        (None, 14, 14, 8)         0         \n",
      "                                                                 \n",
      " flatten (Flatten)           (None, 1568)              0         \n",
      "                                                                 \n",
      " head (Dense)                (None, 10)                15690     \n",
      "                                                                 \n",
      "=================================================================\n",
      "Total params: 15,770\n",
      "Trainable params: 15,770\n",
      "Non-trainable params: 0\n",
      "_________________________________________________________________\n"
     ]
    }
   ],
   "source": [
    "model.summary()"
   ]
  },
  {
   "cell_type": "code",
   "execution_count": 6,
   "id": "5b930f0e-ad5b-4ccd-afaf-6f65407813dd",
   "metadata": {},
   "outputs": [],
   "source": [
    "from tensorflow.keras.optimizers import Adam"
   ]
  },
  {
   "cell_type": "code",
   "execution_count": 7,
   "id": "3f939c51-861a-4063-96aa-a06db33a96f7",
   "metadata": {},
   "outputs": [],
   "source": [
    "model.compile(\n",
    "\n",
    "    optimizer=Adam(1e-3),\n",
    "    loss=\"categorical_crossentropy\",\n",
    "    metrics = [\"accuracy\"]\n",
    "    \n",
    ")\n"
   ]
  },
  {
   "cell_type": "code",
   "execution_count": 8,
   "id": "0d39a8c8-0def-427d-b93c-d48a28b1cc27",
   "metadata": {},
   "outputs": [
    {
     "name": "stdout",
     "output_type": "stream",
     "text": [
      "Epoch 1/5\n",
      "469/469 [==============================] - 5s 4ms/step - loss: 0.5371 - accuracy: 0.8648 - val_loss: 0.2212 - val_accuracy: 0.9355\n",
      "Epoch 2/5\n",
      "469/469 [==============================] - 2s 3ms/step - loss: 0.1946 - accuracy: 0.9435 - val_loss: 0.1504 - val_accuracy: 0.9557\n",
      "Epoch 3/5\n",
      "469/469 [==============================] - 2s 3ms/step - loss: 0.1400 - accuracy: 0.9607 - val_loss: 0.1195 - val_accuracy: 0.9659\n",
      "Epoch 4/5\n",
      "469/469 [==============================] - 2s 4ms/step - loss: 0.1124 - accuracy: 0.9683 - val_loss: 0.0964 - val_accuracy: 0.9726\n",
      "Epoch 5/5\n",
      "469/469 [==============================] - 2s 3ms/step - loss: 0.0953 - accuracy: 0.9725 - val_loss: 0.0878 - val_accuracy: 0.9741\n"
     ]
    }
   ],
   "source": [
    "history = model.fit(\n",
    "                    X_train, Y_train, \n",
    "                    epochs = 5, \n",
    "                    batch_size = 128, \n",
    "                    validation_data = (X_test, Y_test), \n",
    "                    verbose=1\n",
    ")"
   ]
  },
  {
   "cell_type": "code",
   "execution_count": 9,
   "id": "79c5ccd2-0938-4c42-9a0f-83c49093fbf0",
   "metadata": {},
   "outputs": [
    {
     "name": "stdout",
     "output_type": "stream",
     "text": [
      "Test accuracy: 0.9741\n",
      "Predicted labels: [7, 2, 1, 0, 4]\n",
      "True labels     : [7, 2, 1, 0, 4]\n"
     ]
    }
   ],
   "source": [
    "test_loss, test_acc = model.evaluate(X_test, Y_test, verbose=0)\n",
    "print(f\"Test accuracy: {test_acc:.4f}\")\n",
    "\n",
    "probs = model.predict(X_test[:5], verbose=0)    # (5,10)\n",
    "preds = np.argmax(probs, axis=1)\n",
    "print(\"Predicted labels:\", preds.tolist())\n",
    "print(\"True labels     :\", np.argmax(Y_test[:5], axis=1).tolist())\n"
   ]
  },
  {
   "cell_type": "code",
   "execution_count": 10,
   "id": "438c5752-2542-4558-a11c-6f7898c691c4",
   "metadata": {},
   "outputs": [
    {
     "data": {
      "image/png": "[encoded data removed]",
      "text/plain": [
       "<Figure size 1500x500 with 10 Axes>"
      ]
     },
     "metadata": {},
     "output_type": "display_data"
    }
   ],
   "source": [
    "import matplotlib.pyplot as plt\n",
    "\n",
    "# Pick 10 random indices\n",
    "idxs = np.random.choice(len(X_test), size=10, replace=False)\n",
    "\n",
    "# Get the images and true labels\n",
    "images = X_test[idxs]\n",
    "true_labels = np.argmax(Y_test[idxs], axis=1)   # since one-hot\n",
    "\n",
    "# Predict\n",
    "probs = model.predict(images, verbose=0)\n",
    "preds = np.argmax(probs, axis=1)\n",
    "\n",
    "# Plot\n",
    "plt.figure(figsize=(15, 5))\n",
    "for i in range(10):\n",
    "    plt.subplot(2, 5, i+1)\n",
    "    plt.imshow(images[i].squeeze(), cmap=\"gray\")\n",
    "    plt.title(f\"True: {true_labels[i]}\\nPred: {preds[i]}\")\n",
    "    plt.axis(\"off\")\n",
    "\n",
    "plt.tight_layout()\n",
    "plt.show()\n"
   ]
  },
  {
   "cell_type": "code",
   "execution_count": 11,
   "id": "33b18d49-ab64-44fc-b19b-660d2f61da29",
   "metadata": {
    "scrolled": true
   },
   "outputs": [
    {
     "name": "stdout",
     "output_type": "stream",
     "text": [
      "Total misclassified: 259 out of 10000\n"
     ]
    },
    {
     "data": {
      "image/png": "[encoded data removed]",
      "text/plain": [
       "<Figure size 1500x500 with 10 Axes>"
      ]
     },
     "metadata": {},
     "output_type": "display_data"
    }
   ],
   "source": [
    "import matplotlib.pyplot as plt\n",
    "\n",
    "# Predict on all test images\n",
    "probs = model.predict(X_test, verbose=0)\n",
    "preds = np.argmax(probs, axis=1)\n",
    "true_labels = np.argmax(Y_test, axis=1)   # since one-hot\n",
    "\n",
    "# Find misclassified indices\n",
    "wrong_idxs = np.where(preds != true_labels)[0]\n",
    "\n",
    "print(f\"Total misclassified: {len(wrong_idxs)} out of {len(X_test)}\")\n",
    "\n",
    "# Pick up to 10 random misclassified samples\n",
    "if len(wrong_idxs) > 0:\n",
    "    sample_idxs = np.random.choice(wrong_idxs, size=min(10, len(wrong_idxs)), replace=False)\n",
    "\n",
    "    plt.figure(figsize=(15, 5))\n",
    "    for i, idx in enumerate(sample_idxs):\n",
    "        plt.subplot(2, 5, i+1)\n",
    "        plt.imshow(X_test[idx].squeeze(), cmap=\"gray\")\n",
    "        plt.title(f\"True: {true_labels[idx]}\\nPred: {preds[idx]}\")\n",
    "        plt.axis(\"off\")\n",
    "    plt.tight_layout()\n",
    "    plt.show()\n",
    "else:\n",
    "    print(\"No misclassified images found! 🎉\")\n"
   ]
  },
  {
   "cell_type": "code",
   "execution_count": 14,
   "id": "c3a2632d-c0ac-4120-b014-b489a685364f",
   "metadata": {},
   "outputs": [
    {
     "name": "stdout",
     "output_type": "stream",
     "text": [
      "(3, 3, 1, 8) (8,) (1568, 10) (10,)\n"
     ]
    }
   ],
   "source": [
    "# Grab layers by name or index\n",
    "conv_w, conv_b = model.get_layer(\"conv1\").get_weights()   # (3,3,1,8), (8,)\n",
    "dense_w, dense_b = model.get_layer(\"head\").get_weights()   # (1568,10), (10,)\n",
    "\n",
    "# Optional: check shapes\n",
    "print(conv_w.shape, conv_b.shape, dense_w.shape, dense_b.shape)\n"
   ]
  },
  {
   "cell_type": "code",
   "execution_count": 19,
   "id": "80b14a2d-ebd5-4260-b149-5172700904c7",
   "metadata": {},
   "outputs": [
    {
     "name": "stdout",
     "output_type": "stream",
     "text": [
      "[[[[-0.2156131 ]]\n",
      "\n",
      "  [[ 0.26420224]]\n",
      "\n",
      "  [[ 0.2020092 ]]]\n",
      "\n",
      "\n",
      " [[[ 0.39823514]]\n",
      "\n",
      "  [[ 0.29488373]]\n",
      "\n",
      "  [[-0.11466848]]]\n",
      "\n",
      "\n",
      " [[[ 0.31671348]]\n",
      "\n",
      "  [[-0.18801329]]\n",
      "\n",
      "  [[-0.13165075]]]]\n"
     ]
    }
   ],
   "source": [
    "print(conv_w[:, :, :, 0:1])"
   ]
  },
  {
   "cell_type": "code",
   "execution_count": null,
   "id": "d8adbea5-e567-43d4-8769-3e4ab5065a1c",
   "metadata": {},
   "outputs": [],
   "source": []
  }
 ],
 "metadata": {
  "kernelspec": {
   "display_name": "Python 3 (ipykernel)",
   "language": "python",
   "name": "python3"
  },
  "language_info": {
   "codemirror_mode": {
    "name": "ipython",
    "version": 3
   },
   "file_extension": ".py",
   "mimetype": "text/x-python",
   "name": "python",
   "nbconvert_exporter": "python",
   "pygments_lexer": "ipython3",
   "version": "3.9.23"
  }
 },
 "nbformat": 4,
 "nbformat_minor": 5
}
