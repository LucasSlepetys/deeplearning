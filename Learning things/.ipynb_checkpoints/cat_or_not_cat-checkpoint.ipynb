{
 "cells": [
  {
   "cell_type": "code",
   "execution_count": 2,
   "id": "1763eb2d-edc9-491d-a284-72e9976f797f",
   "metadata": {},
   "outputs": [],
   "source": [
    "import numpy as np\n",
    "\n",
    "import import_ipynb\n",
    "\n",
    "\n",
    "\n",
    "from L_layer_deeplearning import L_layer_model, graph, L_model_forward,initialize_parameters_deep\n",
    "np.random.seed(1)"
   ]
  },
  {
   "cell_type": "code",
   "execution_count": 3,
   "id": "4db6b9aa-f116-4028-86aa-c8a6d2307c25",
   "metadata": {},
   "outputs": [
    {
     "name": "stdout",
     "output_type": "stream",
     "text": [
      "W1[0,:5] = [ 0.02072301 -0.00780464 -0.00673829 -0.01368868  0.01104066]\n"
     ]
    }
   ],
   "source": [
    "params = initialize_parameters_deep([12288, 20, 7, 5, 1])\n",
    "print(\"W1[0,:5] =\", params['W1'][0, :5])"
   ]
  },
  {
   "cell_type": "code",
   "execution_count": 4,
   "id": "43549192-a00f-465e-a0e2-6f95489c8136",
   "metadata": {},
   "outputs": [],
   "source": [
    "import h5py\n",
    "\n",
    "def load_data():\n",
    "    \n",
    "    train_dataset = h5py.File('train_catvsnoncat.h5', \"r\")\n",
    "    test_dataset = h5py.File('test_catvsnoncat.h5', \"r\")\n",
    "\n",
    "    X_train = np.array(train_dataset[\"train_set_x\"])  # (209, 64, 64, 3)\n",
    "    y_train = np.array(train_dataset[\"train_set_y\"])  # (209,)\n",
    "\n",
    "    X_test = np.array(test_dataset[\"test_set_x\"])     # (50, 64, 64, 3)\n",
    "    y_test = np.array(test_dataset[\"test_set_y\"])     # (50,)\n",
    "\n",
    "    num_examples = X_train.shape[0]\n",
    "    feature_size = X_train.shape[1] * X_train.shape[2] * X_train.shape[3] \n",
    "\n",
    "    # Flatten and normalize\n",
    "    X = X_train.reshape(feature_size, num_examples) / 255.0 # (12288, 209)\n",
    "\n",
    "    #shortcut:\n",
    "    X_test = X_test.reshape(X_test.shape[0], -1).T / 255.0     # (12288, 50)\n",
    "    Y = y_train.reshape(1, -1)  # (1, 209)\n",
    "    y_test = y_test.reshape(1, -1)    # (1, 50)\n",
    "\n",
    "    train_dataset.close()\n",
    "\n",
    "    return X, Y, X_test, y_test"
   ]
  },
  {
   "cell_type": "code",
   "execution_count": 5,
   "id": "eee4e048-4fa7-4cbd-856a-572c619b5a6d",
   "metadata": {},
   "outputs": [
    {
     "name": "stdout",
     "output_type": "stream",
     "text": [
      "(12288, 209)\n",
      "(1, 209)\n"
     ]
    }
   ],
   "source": [
    "X, Y, X_test, y_test = load_data()\n",
    "print(X.shape)\n",
    "print(Y.shape)\n",
    "input_layer = X.shape[0]"
   ]
  },
  {
   "cell_type": "code",
   "execution_count": 5,
   "id": "30866f78-56a6-416d-80d2-5175ccb54310",
   "metadata": {},
   "outputs": [
    {
     "name": "stdout",
     "output_type": "stream",
     "text": [
      "Accuracy of train set: 66.00%\n"
     ]
    }
   ],
   "source": [
    "predictions, _ = L_model_forward(X_test, params)\n",
    "predictions = (predictions > 0.5).astype(int)\n",
    "accuracy = np.mean(predictions == y_test)\n",
    "\n",
    "print(f\"Accuracy of train set: {accuracy * 100:.2f}%\")\n",
    "\n",
    "#this is a test to see how easily i can type on pc from laptop"
   ]
  },
  {
   "cell_type": "code",
   "execution_count": 6,
   "id": "1289f007-fc36-4eae-a421-873af4249f06",
   "metadata": {},
   "outputs": [
    {
     "name": "stdout",
     "output_type": "stream",
     "text": [
      "Cost after iteration 0: 0.7601266029413812\n",
      "Cost after iteration 100: 0.7070509162570622\n",
      "Cost after iteration 200: 0.7010685662914967\n",
      "Cost after iteration 300: 0.6963039284813\n",
      "Cost after iteration 400: 0.6899858741435575\n",
      "Cost after iteration 500: 0.6813696528560138\n",
      "Cost after iteration 600: 0.6635124157243505\n",
      "Cost after iteration 700: 0.650189122743606\n",
      "Cost after iteration 800: 0.6423638568550202\n",
      "Cost after iteration 900: 0.6364028300008385\n",
      "Cost after iteration 1000: 0.6313538747703606\n",
      "Cost after iteration 1100: 0.6259841052160119\n",
      "Cost after iteration 1200: 0.6203791927306367\n",
      "Cost after iteration 1300: 0.6156006557816315\n",
      "Cost after iteration 1400: 0.6110894824924037\n",
      "Cost after iteration 1500: 0.6067908944559084\n",
      "Cost after iteration 1600: 0.6026457223135053\n",
      "Cost after iteration 1700: 0.5986757957571464\n",
      "Cost after iteration 1800: 0.5947777083893931\n",
      "Cost after iteration 1900: 0.5905298317011297\n",
      "Cost after iteration 2000: 0.5861480802842368\n",
      "Cost after iteration 2100: 0.5818677382671107\n",
      "Cost after iteration 2200: 0.577602965372687\n",
      "Cost after iteration 2300: 0.573124762913143\n",
      "Cost after iteration 2400: 0.5677980428122038\n",
      "Cost after iteration 2500: 0.5620483665839614\n",
      "Cost after iteration 2600: 0.5564745881783559\n",
      "Cost after iteration 2700: 0.5503926927681402\n",
      "Cost after iteration 2800: 0.5444547197897877\n",
      "Cost after iteration 2900: 0.5388242045079409\n",
      "Cost after iteration 2999: 0.5333643232876228\n"
     ]
    }
   ],
   "source": [
    "#all relu activation besides final layer\n",
    "layers_dims = [12288, 20, 7, 5, 1]\n",
    "#layers_dims = [12288, 7, 1]\n",
    "\n",
    "parameters, costs = L_layer_model(X, Y, layers_dims, learning_rate = 0.001, num_iterations = 3000, print_cost=True, lambd = 0.1)"
   ]
  },
  {
   "cell_type": "code",
   "execution_count": 7,
   "id": "1dbb7ce4-6751-4727-ac88-cb32b203b5aa",
   "metadata": {},
   "outputs": [
    {
     "data": {
      "image/png": "[encoded data removed]",
      "text/plain": [
       "<Figure size 800x500 with 1 Axes>"
      ]
     },
     "metadata": {},
     "output_type": "display_data"
    }
   ],
   "source": [
    "graph(costs)"
   ]
  },
  {
   "cell_type": "code",
   "execution_count": 8,
   "id": "af8f8075-a4c5-4549-8b31-84f2b85b324a",
   "metadata": {},
   "outputs": [
    {
     "name": "stdout",
     "output_type": "stream",
     "text": [
      "Accuracy of train set: 75.60%\n"
     ]
    }
   ],
   "source": [
    "predictions, _ = L_model_forward(X, parameters)\n",
    "predictions = (predictions > 0.5).astype(int)\n",
    "accuracy = np.mean(predictions == Y)\n",
    "\n",
    "print(f\"Accuracy of train set: {accuracy * 100:.2f}%\")"
   ]
  },
  {
   "cell_type": "code",
   "execution_count": 9,
   "id": "14c2bbc1-126b-4081-8177-80f41baf925f",
   "metadata": {},
   "outputs": [
    {
     "name": "stdout",
     "output_type": "stream",
     "text": [
      "Accuracy of train set: 34.00%\n"
     ]
    }
   ],
   "source": [
    "predictions, _ = L_model_forward(X_test, parameters)\n",
    "predictions = (predictions > 0.5).astype(int)\n",
    "accuracy = np.mean(predictions == y_test)\n",
    "\n",
    "print(f\"Accuracy of train set: {accuracy * 100:.2f}%\")"
   ]
  },
  {
   "cell_type": "code",
   "execution_count": null,
   "id": "5916e8a1-2eca-4a5c-9640-09595d04c064",
   "metadata": {},
   "outputs": [],
   "source": [
    "index = np.random.randint(0, 49) # from 0 to 49\n",
    "image = X_test[:, index].reshape((64, 64, 3)) * 255  # reshape and un-normalize\n",
    "label = y_test[0, index]\n",
    "\n",
    "prediction, _ = L_model_forward(X_test[:, index].reshape(-1, 1), parameters)  # shape: (12288, 1)\n",
    "print(prediction.shape)\n",
    "prediction = (prediction > 0.5).astype(int)\n",
    "\n",
    "print(\"Predicted:\", \"Cat\" if prediction == 1 else \"Not a cat\")\n",
    "print(\"Actual:\", \"Cat\" if label == 1 else \"Not a cat\")\n",
    "\n",
    "import matplotlib.pyplot as plt\n",
    "\n",
    "plt.imshow(image.astype(np.uint8))\n",
    "plt.title(f\"Predicted: {'Cat' if prediction == 1 else 'Not a cat'}\\n\"\n",
    "          f\"Actual: {'Cat' if label == 1 else 'Not a cat'}\")\n",
    "plt.axis(\"off\")\n",
    "plt.show()\n",
    "\n"
   ]
  },
  {
   "cell_type": "code",
   "execution_count": null,
   "id": "068fa30e-b097-4ed7-80a8-7c59e883e406",
   "metadata": {},
   "outputs": [],
   "source": []
  },
  {
   "cell_type": "code",
   "execution_count": null,
   "id": "883b2d73-e49f-47d4-afe2-9f6ce0b135e9",
   "metadata": {},
   "outputs": [],
   "source": [
    "import L_layer_deeplearning"
   ]
  }
 ],
 "metadata": {
  "kernelspec": {
   "display_name": "Python 3 (ipykernel)",
   "language": "python",
   "name": "python3"
  },
  "language_info": {
   "codemirror_mode": {
    "name": "ipython",
    "version": 3
   },
   "file_extension": ".py",
   "mimetype": "text/x-python",
   "name": "python",
   "nbconvert_exporter": "python",
   "pygments_lexer": "ipython3",
   "version": "3.11.0"
  }
 },
 "nbformat": 4,
 "nbformat_minor": 5
}
